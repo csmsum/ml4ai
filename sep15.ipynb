{
  "nbformat": 4,
  "nbformat_minor": 0,
  "metadata": {
    "colab": {
      "provenance": [],
      "mount_file_id": "1F_0PEyVzJ6CXtP75K3Ln8xhdtmJcp2aS",
      "authorship_tag": "ABX9TyOL2iI6Xlt/CDdZkjtXtBeR",
      "include_colab_link": true
    },
    "kernelspec": {
      "name": "python3",
      "display_name": "Python 3"
    },
    "language_info": {
      "name": "python"
    }
  },
  "cells": [
    {
      "cell_type": "markdown",
      "metadata": {
        "id": "view-in-github",
        "colab_type": "text"
      },
      "source": [
        "<a href=\"https://colab.research.google.com/github/csmsum/ml4ai/blob/main/sep15.ipynb\" target=\"_parent\"><img src=\"https://colab.research.google.com/assets/colab-badge.svg\" alt=\"Open In Colab\"/></a>"
      ]
    },
    {
      "cell_type": "code",
      "source": [
        "import pandas as pd\n",
        "import numpy as np"
      ],
      "metadata": {
        "id": "rSMA2aXW2sMN"
      },
      "execution_count": 40,
      "outputs": []
    },
    {
      "cell_type": "code",
      "execution_count": 41,
      "metadata": {
        "id": "iVqic8Ec1T23"
      },
      "outputs": [],
      "source": [
        "df = pd.DataFrame([\n",
        "    {'Name' : '나다경', 'Hobby' : 'listening to music', 'Nationality' : 'Korea'},\n",
        "    {'Name' : '유나현', 'Hobby' : 'watching movies', 'Nationality' : 'Korea'},\n",
        "    {'Name' : '이영민', 'Hobby' : 'watching Netfilx & playing computer games', 'Nationality' : 'Korea'},\n",
        "    {'Name' : '추승민', 'Hobby' : 'reading books', 'Nationality' : 'Korea'}\n",
        "])"
      ]
    },
    {
      "cell_type": "code",
      "source": [
        "df1 = pd.DataFrame([\n",
        "    {'Name' : '나다경', 'Hobby' : 'listening to music', 'Nationality' : 'Korea'},\n",
        "    {'Name' : '유나현', 'Hobby' : 'watching movies', 'Nationality' : 'Korea'},\n",
        "    {'Name' : '이영민', 'Hobby' : 'watching Netfilx & playing computer games', 'Nationality' : 'Korea'},\n",
        "    {'Name' : '추승민', 'Hobby' : 'reading books', 'Nationality' : 'Korea'}\n",
        "], index=index_list)"
      ],
      "metadata": {
        "id": "J8JvY6B21cV4"
      },
      "execution_count": 42,
      "outputs": []
    },
    {
      "cell_type": "code",
      "source": [
        "index_list=['student1', 'student2', 'student3', 'student4']\n",
        "df1.to_csv('ml_9_15_practice.csv', encoding='cp949')"
      ],
      "metadata": {
        "id": "Qj-nwp5o1egG"
      },
      "execution_count": 43,
      "outputs": []
    },
    {
      "cell_type": "code",
      "source": [
        "df = pd.read_csv('ml_9_15_practice.csv', encoding='cp949', index_col=0)"
      ],
      "metadata": {
        "id": "dkmrtpBQ2qtL"
      },
      "execution_count": 44,
      "outputs": []
    },
    {
      "cell_type": "code",
      "source": [
        "df = pd.DataFrame({'Height' : [157, 180, 180, 165],\n",
        "       'Weight' : [50, 75, 70, 55],\n",
        "       'Age' : [23, 24, 25, 26]})"
      ],
      "metadata": {
        "id": "Bpb1cjyl13ef"
      },
      "execution_count": 45,
      "outputs": []
    },
    {
      "cell_type": "code",
      "source": [],
      "metadata": {
        "id": "n8Yi3-8t49ED"
      },
      "execution_count": null,
      "outputs": []
    },
    {
      "cell_type": "code",
      "source": [],
      "metadata": {
        "id": "0wljp4cJ5TmZ"
      },
      "execution_count": null,
      "outputs": []
    }
  ]
}